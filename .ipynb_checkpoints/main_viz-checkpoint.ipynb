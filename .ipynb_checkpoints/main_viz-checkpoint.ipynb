{
 "cells": [
  {
   "cell_type": "code",
   "execution_count": 3,
   "id": "amateur-ontario",
   "metadata": {},
   "outputs": [],
   "source": [
    "import numpy as np\n",
    "import pandas as pd\n",
    "import os"
   ]
  },
  {
   "cell_type": "code",
   "execution_count": 4,
   "id": "tamil-destiny",
   "metadata": {},
   "outputs": [
    {
     "name": "stdout",
     "output_type": "stream",
     "text": [
      "0x (ZRX).csv -- (366, 5)\n",
      "Wonderland (TIME).csv -- (45, 5)\n",
      "Synthetix Network Token (SNX).csv -- (366, 5)\n",
      "REN (REN).csv -- (366, 5)\n",
      "ChainLink.csv -- (366, 5)\n",
      "cDAI (CDAI).csv -- (366, 5)\n",
      "Keep Network (KEEP).csv -- (366, 5)\n",
      "renBTC (RENBTC).csv -- (366, 5)\n",
      "dYdX (DYDX).csv -- (39, 5)\n",
      "Gnosis (GNO).csv -- (366, 5)\n",
      "Lido Staked Ether (STETH).csv -- (299, 5)\n",
      "Reserve Rights Token (RSR).csv -- (366, 5)\n",
      "cEth.csv -- (366, 5)\n",
      "yearn.finance (YFI).csv -- (366, 5)\n",
      "Aave (AAVE).csv -- (366, 5)\n",
      "Amp (AMP).csv -- (366, 5)\n",
      "Fei Protocol (FEI).csv -- (197, 5)\n",
      "Rocket Pool (RPL).csv -- (366, 5)\n",
      "Frax (FRAX).csv -- (300, 5)\n",
      "Maker (MKR).csv -- (366, 5)\n",
      "Compound (COMP).csv -- (366, 5)\n",
      "Raydium (RAY).csv -- (238, 5)\n",
      "Magic Internet Money (MIM).csv -- (108, 5)\n",
      "Uniswap.csv -- (366, 5)\n",
      "Terra(Luna).csv -- (366, 5)\n",
      "Sushi (SUSHI).csv -- (366, 5)\n",
      "Rari Governance Token (RGT).csv -- (360, 5)\n",
      "PancakeSwap (CAKE).csv -- (366, 5)\n",
      "Kava (KAVA).csv -- (366, 5)\n",
      "xSUSHI (XSUSHI).csv -- (269, 5)\n",
      "Olympus (OHM).csv -- (207, 5)\n",
      "Loopring (LRC.csv -- (366, 5)\n",
      "Spell Token (SPELL).csv -- (142, 5)\n",
      "Curve DAO Token (CRV).csv -- (366, 5)\n",
      "Neutrino USD (USDN).csv -- (366, 5)\n",
      "UMA (UMA).csv -- (366, 5)\n",
      "Liquity USD (LUSD).csv -- (195, 5)\n",
      "sETH (SETH).csv -- (366, 5)\n",
      "Coin98 (C98).csv -- (86, 5)\n",
      "Bancor Network Token (BNT).csv -- (366, 5)\n",
      "Serum (SRM).csv -- (366, 5)\n",
      "Alpha Finance (ALPHA).csv -- (366, 5)\n",
      "Perpetual Protocol (PERP).csv -- (366, 5)\n",
      "Convex Finance (CVX).csv -- (153, 5)\n",
      "Nexus Mutual (NXM).csv -- (366, 5)\n",
      "cUSDC (CUSDC).csv -- (366, 5)\n",
      "Dai.csv -- (366, 5)\n",
      "The Graph (GRT).csv -- (304, 5)\n",
      "1inch (1INCH).csv -- (296, 5)\n"
     ]
    }
   ],
   "source": [
    "master_df = pd.DataFrame()\n",
    "\n",
    "for file in os.listdir(os.getcwd()):\n",
    "    if file.endswith('.csv'):\n",
    "        master_df = pd.read_csv(file)\n",
    "        \n",
    "        print(f'{file} -- {master_df.shape}')"
   ]
  },
  {
   "cell_type": "code",
   "execution_count": null,
   "id": "addressed-angle",
   "metadata": {},
   "outputs": [],
   "source": []
  }
 ],
 "metadata": {
  "kernelspec": {
   "display_name": "Python 3",
   "language": "python",
   "name": "python3"
  },
  "language_info": {
   "codemirror_mode": {
    "name": "ipython",
    "version": 3
   },
   "file_extension": ".py",
   "mimetype": "text/x-python",
   "name": "python",
   "nbconvert_exporter": "python",
   "pygments_lexer": "ipython3",
   "version": "3.9.5"
  }
 },
 "nbformat": 4,
 "nbformat_minor": 5
}
