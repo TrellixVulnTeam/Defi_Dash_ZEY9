{
 "cells": [
  {
   "cell_type": "code",
   "execution_count": 3,
   "id": "removed-judgment",
   "metadata": {},
   "outputs": [],
   "source": [
    "# import plotly.graph_objects as go\n",
    "import matplotlib\n",
    "import numpy as np\n",
    "import pandas as pd\n",
    "import os\n",
    "\n",
    "import seaborn as sns\n"
   ]
  },
  {
   "cell_type": "code",
   "execution_count": 4,
   "id": "periodic-aruba",
   "metadata": {},
   "outputs": [
    {
     "name": "stdout",
     "output_type": "stream",
     "text": [
      "0x (ZRX).csv -- (366, 6)\n",
      "Wonderland (TIME).csv -- (45, 6)\n",
      "Synthetix Network Token (SNX).csv -- (366, 6)\n",
      "REN (REN).csv -- (366, 6)\n",
      "ChainLink.csv -- (366, 6)\n",
      "cDAI (CDAI).csv -- (366, 6)\n",
      "renBTC (RENBTC).csv -- (366, 6)\n",
      "dYdX (DYDX).csv -- (39, 6)\n",
      "Gnosis (GNO).csv -- (366, 6)\n",
      "Lido Staked Ether (STETH).csv -- (299, 6)\n",
      "Reserve Rights Token (RSR).csv -- (366, 6)\n",
      "cEth.csv -- (366, 6)\n",
      "yearn.finance (YFI).csv -- (366, 6)\n",
      "Aave (AAVE).csv -- (366, 6)\n",
      "Amp (AMP).csv -- (366, 6)\n",
      "Fei Protocol (FEI).csv -- (197, 6)\n",
      "Rocket Pool (RPL).csv -- (366, 6)\n",
      "Frax (FRAX).csv -- (300, 6)\n",
      "Maker (MKR).csv -- (366, 6)\n",
      "Compound (COMP).csv -- (366, 6)\n",
      "Raydium (RAY).csv -- (238, 6)\n",
      "Magic Internet Money (MIM).csv -- (108, 6)\n",
      "Uniswap.csv -- (366, 6)\n",
      "Terra(Luna).csv -- (366, 6)\n",
      "Sushi (SUSHI).csv -- (366, 6)\n",
      "PancakeSwap (CAKE).csv -- (366, 6)\n",
      "Kava (KAVA).csv -- (366, 6)\n",
      "xSUSHI (XSUSHI).csv -- (269, 6)\n",
      "Olympus (OHM).csv -- (207, 6)\n",
      "Loopring (LRC.csv -- (366, 6)\n",
      "Spell Token (SPELL).csv -- (142, 6)\n",
      "Curve DAO Token (CRV).csv -- (366, 6)\n",
      "Neutrino USD (USDN).csv -- (366, 6)\n",
      "UMA (UMA).csv -- (366, 6)\n",
      "Liquity USD (LUSD).csv -- (195, 6)\n",
      "Coin98 (C98).csv -- (86, 6)\n",
      "Bancor Network Token (BNT).csv -- (366, 6)\n",
      "Serum (SRM).csv -- (366, 6)\n",
      "Alpha Finance (ALPHA).csv -- (366, 6)\n",
      "Perpetual Protocol (PERP).csv -- (366, 6)\n",
      "Convex Finance (CVX).csv -- (153, 6)\n",
      "Nexus Mutual (NXM).csv -- (366, 6)\n",
      "cUSDC (CUSDC).csv -- (366, 6)\n",
      "Dai.csv -- (366, 6)\n",
      "The Graph (GRT).csv -- (304, 6)\n",
      "1inch (1INCH).csv -- (296, 6)\n",
      "46\n"
     ]
    }
   ],
   "source": [
    "master_df = pd.DataFrame()\n",
    "count = 0\n",
    "for file in os.listdir(os.getcwd()):\n",
    "    if file.endswith('.csv'):\n",
    "        master_df = pd.read_csv(file)\n",
    "        count += 1\n",
    "        \n",
    "        print(f'{file} -- {master_df.shape}')\n",
    "print(count)"
   ]
  },
  {
   "cell_type": "code",
   "execution_count": 6,
   "id": "classified-handle",
   "metadata": {},
   "outputs": [
    {
     "data": {
      "image/png": "[encoded data removed]",
      "text/plain": [
       "<Figure size 432x288 with 2 Axes>"
      ]
     },
     "metadata": {
      "needs_background": "light"
     },
     "output_type": "display_data"
    }
   ],
   "source": [
    "df = pd.read_csv('cEth.csv')\n",
    "\n",
    "sns.heatmap(df.isnull());"
   ]
  },
  {
   "cell_type": "code",
   "execution_count": 7,
   "id": "meaning-movement",
   "metadata": {},
   "outputs": [
    {
     "name": "stdout",
     "output_type": "stream",
     "text": [
      "Symbol         object\n",
      "Date           object\n",
      "Market Cap    float64\n",
      "Volume        float64\n",
      "Open          float64\n",
      "Close         float64\n",
      "dtype: object\n"
     ]
    }
   ],
   "source": [
    "print(df.dtypes)"
   ]
  },
  {
   "cell_type": "code",
   "execution_count": 8,
   "id": "presidential-antenna",
   "metadata": {},
   "outputs": [
    {
     "data": {
      "text/html": [
       "<div>\n",
       "<style scoped>\n",
       "    .dataframe tbody tr th:only-of-type {\n",
       "        vertical-align: middle;\n",
       "    }\n",
       "\n",
       "    .dataframe tbody tr th {\n",
       "        vertical-align: top;\n",
       "    }\n",
       "\n",
       "    .dataframe thead th {\n",
       "        text-align: right;\n",
       "    }\n",
       "</style>\n",
       "<table border=\"1\" class=\"dataframe\">\n",
       "  <thead>\n",
       "    <tr style=\"text-align: right;\">\n",
       "      <th></th>\n",
       "      <th>Symbol</th>\n",
       "      <th>Date</th>\n",
       "      <th>Market Cap</th>\n",
       "      <th>Volume</th>\n",
       "      <th>Open</th>\n",
       "      <th>Close</th>\n",
       "    </tr>\n",
       "  </thead>\n",
       "  <tbody>\n",
       "    <tr>\n",
       "      <th>0</th>\n",
       "      <td>cEth</td>\n",
       "      <td>2021-10-16</td>\n",
       "      <td>6.142240e+09</td>\n",
       "      <td>8606155.0</td>\n",
       "      <td>77.93</td>\n",
       "      <td>NaN</td>\n",
       "    </tr>\n",
       "    <tr>\n",
       "      <th>1</th>\n",
       "      <td>cEth</td>\n",
       "      <td>2021-10-15</td>\n",
       "      <td>6.079787e+09</td>\n",
       "      <td>179825275.0</td>\n",
       "      <td>76.13</td>\n",
       "      <td>77.93</td>\n",
       "    </tr>\n",
       "    <tr>\n",
       "      <th>2</th>\n",
       "      <td>cEth</td>\n",
       "      <td>2021-10-14</td>\n",
       "      <td>5.940307e+09</td>\n",
       "      <td>254222300.0</td>\n",
       "      <td>72.32</td>\n",
       "      <td>76.13</td>\n",
       "    </tr>\n",
       "    <tr>\n",
       "      <th>3</th>\n",
       "      <td>cEth</td>\n",
       "      <td>2021-10-13</td>\n",
       "      <td>5.528610e+09</td>\n",
       "      <td>11214533.0</td>\n",
       "      <td>70.25</td>\n",
       "      <td>72.32</td>\n",
       "    </tr>\n",
       "    <tr>\n",
       "      <th>4</th>\n",
       "      <td>cEth</td>\n",
       "      <td>2021-10-12</td>\n",
       "      <td>5.568463e+09</td>\n",
       "      <td>1260109.0</td>\n",
       "      <td>71.19</td>\n",
       "      <td>70.25</td>\n",
       "    </tr>\n",
       "  </tbody>\n",
       "</table>\n",
       "</div>"
      ],
      "text/plain": [
       "  Symbol        Date    Market Cap       Volume   Open  Close\n",
       "0   cEth  2021-10-16  6.142240e+09    8606155.0  77.93    NaN\n",
       "1   cEth  2021-10-15  6.079787e+09  179825275.0  76.13  77.93\n",
       "2   cEth  2021-10-14  5.940307e+09  254222300.0  72.32  76.13\n",
       "3   cEth  2021-10-13  5.528610e+09   11214533.0  70.25  72.32\n",
       "4   cEth  2021-10-12  5.568463e+09    1260109.0  71.19  70.25"
      ]
     },
     "execution_count": 8,
     "metadata": {},
     "output_type": "execute_result"
    }
   ],
   "source": [
    "df.head()"
   ]
  },
  {
   "cell_type": "code",
   "execution_count": 9,
   "id": "veterinary-cincinnati",
   "metadata": {},
   "outputs": [
    {
     "data": {
      "text/plain": [
       "True"
      ]
     },
     "execution_count": 9,
     "metadata": {},
     "output_type": "execute_result"
    }
   ],
   "source": [
    "df.isnull().values.any()"
   ]
  },
  {
   "cell_type": "code",
   "execution_count": 10,
   "id": "strong-category",
   "metadata": {},
   "outputs": [],
   "source": []
  },
  {
   "cell_type": "code",
   "execution_count": null,
   "id": "ongoing-married",
   "metadata": {},
   "outputs": [],
   "source": []
  },
  {
   "cell_type": "code",
   "execution_count": null,
   "id": "sustained-thing",
   "metadata": {},
   "outputs": [],
   "source": []
  }
 ],
 "metadata": {
  "kernelspec": {
   "display_name": "Python 3",
   "language": "python",
   "name": "python3"
  },
  "language_info": {
   "codemirror_mode": {
    "name": "ipython",
    "version": 3
   },
   "file_extension": ".py",
   "mimetype": "text/x-python",
   "name": "python",
   "nbconvert_exporter": "python",
   "pygments_lexer": "ipython3",
   "version": "3.8.5"
  }
 },
 "nbformat": 4,
 "nbformat_minor": 5
}
